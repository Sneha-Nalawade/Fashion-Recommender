{
 "cells": [
  {
   "cell_type": "code",
   "execution_count": 1,
   "metadata": {},
   "outputs": [],
   "source": [
    "import pandas as pd\n",
    "import numpy as np\n",
    "from sklearn.metrics.pairwise import cosine_similarity"
   ]
  },
  {
   "cell_type": "code",
   "execution_count": 3,
   "metadata": {},
   "outputs": [],
   "source": [
    "# Load the synthetic data\n",
    "user_data = pd.read_csv('../users.csv')\n",
    "item_data = pd.read_csv('../items.csv')\n",
    "ratings_data = pd.read_csv('../ratings.csv')"
   ]
  },
  {
   "cell_type": "code",
   "execution_count": 4,
   "metadata": {},
   "outputs": [],
   "source": [
    "# Aggregate duplicate entries by calculating the mean rating\n",
    "ratings_data = ratings_data.groupby(['user_id', 'item_id'], as_index=False).mean()"
   ]
  },
  {
   "cell_type": "code",
   "execution_count": 5,
   "metadata": {},
   "outputs": [],
   "source": [
    "# Pivot the ratings matrix\n",
    "ratings_matrix = ratings_data.pivot(index='user_id', columns='item_id', values='rating').fillna(0)"
   ]
  },
  {
   "cell_type": "code",
   "execution_count": 6,
   "metadata": {},
   "outputs": [],
   "source": [
    "# Compute the cosine similarity matrix\n",
    "user_similarity = cosine_similarity(ratings_matrix)\n",
    "user_similarity_df = pd.DataFrame(user_similarity, index=ratings_matrix.index, columns=ratings_matrix.index)"
   ]
  },
  {
   "cell_type": "code",
   "execution_count": 8,
   "metadata": {},
   "outputs": [],
   "source": [
    "# def predict_ratings(user_id):\n",
    "#     user_ratings = ratings_matrix.loc[user_id]\n",
    "#     similar_users = user_similarity_df[user_id].sort_values(ascending=False)\n",
    "#     similar_users_ratings = ratings_matrix.loc[similar_users.index]\n",
    "#     weighted_ratings = similar_users_ratings.T.dot(similar_users) / similar_users.sum()\n",
    "#     predicted_ratings = weighted_ratings.loc[user_id]\n",
    "#     return predicted_ratings"
   ]
  },
  {
   "cell_type": "code",
   "execution_count": 7,
   "metadata": {},
   "outputs": [],
   "source": [
    "def predict_ratings(user_id):\n",
    "    user_ratings = ratings_matrix.loc[user_id]\n",
    "    similar_users = user_similarity_df[user_id].sort_values(ascending=False)\n",
    "    similar_users_ratings = ratings_matrix.loc[similar_users.index]\n",
    "    weighted_ratings = similar_users_ratings.T.dot(similar_users) / similar_users.sum()\n",
    "    return weighted_ratings"
   ]
  },
  {
   "cell_type": "code",
   "execution_count": 8,
   "metadata": {},
   "outputs": [
    {
     "name": "stdout",
     "output_type": "stream",
     "text": [
      "Unique user IDs in the dataset: ['user_1' 'user_10' 'user_100' 'user_11' 'user_12' 'user_13' 'user_14'\n",
      " 'user_15' 'user_16' 'user_17' 'user_18' 'user_19' 'user_2' 'user_20'\n",
      " 'user_21' 'user_22' 'user_23' 'user_24' 'user_25' 'user_26' 'user_27'\n",
      " 'user_28' 'user_29' 'user_3' 'user_30' 'user_31' 'user_32' 'user_33'\n",
      " 'user_34' 'user_35' 'user_36' 'user_37' 'user_38' 'user_39' 'user_4'\n",
      " 'user_40' 'user_41' 'user_42' 'user_43' 'user_44' 'user_45' 'user_46'\n",
      " 'user_47' 'user_48' 'user_49' 'user_5' 'user_50' 'user_51' 'user_52'\n",
      " 'user_53' 'user_54' 'user_55' 'user_56' 'user_57' 'user_58' 'user_59'\n",
      " 'user_6' 'user_60' 'user_61' 'user_62' 'user_63' 'user_64' 'user_65'\n",
      " 'user_66' 'user_67' 'user_68' 'user_69' 'user_7' 'user_70' 'user_71'\n",
      " 'user_72' 'user_73' 'user_74' 'user_75' 'user_76' 'user_77' 'user_78'\n",
      " 'user_79' 'user_8' 'user_80' 'user_81' 'user_82' 'user_83' 'user_84'\n",
      " 'user_85' 'user_86' 'user_87' 'user_88' 'user_89' 'user_9' 'user_90'\n",
      " 'user_91' 'user_92' 'user_93' 'user_94' 'user_95' 'user_96' 'user_97'\n",
      " 'user_98' 'user_99']\n"
     ]
    }
   ],
   "source": [
    "# Print unique user IDs\n",
    "unique_user_ids = ratings_data['user_id'].unique()\n",
    "print(\"Unique user IDs in the dataset:\", unique_user_ids)"
   ]
  },
  {
   "cell_type": "code",
   "execution_count": 15,
   "metadata": {},
   "outputs": [
    {
     "name": "stdout",
     "output_type": "stream",
     "text": [
      "Predicted ratings for user_60:\n",
      " item_id\n",
      "item_1     0.354709\n",
      "item_10    0.532000\n",
      "item_11    0.695174\n",
      "item_12    1.550825\n",
      "item_13    0.591430\n",
      "item_14    0.506999\n",
      "item_15    1.515992\n",
      "item_16    0.254611\n",
      "item_17    0.457028\n",
      "item_18    0.898200\n",
      "item_19    0.375253\n",
      "item_2     0.592405\n",
      "item_20    0.464924\n",
      "item_21    0.458689\n",
      "item_22    0.307106\n",
      "item_23    0.503186\n",
      "item_24    0.309129\n",
      "item_25    0.561923\n",
      "item_26    0.634494\n",
      "item_27    0.218553\n",
      "item_28    0.321888\n",
      "item_29    0.601933\n",
      "item_3     0.342626\n",
      "item_30    0.477969\n",
      "item_31    0.508772\n",
      "item_32    0.561255\n",
      "item_33    0.565450\n",
      "item_34    0.576010\n",
      "item_35    0.676770\n",
      "item_36    0.317638\n",
      "item_37    0.626617\n",
      "item_38    0.515114\n",
      "item_39    0.393061\n",
      "item_4     0.417544\n",
      "item_40    0.347818\n",
      "item_41    0.385907\n",
      "item_42    0.259980\n",
      "item_43    0.475131\n",
      "item_44    0.352781\n",
      "item_45    0.642301\n",
      "item_46    0.685964\n",
      "item_47    0.573355\n",
      "item_48    0.388975\n",
      "item_49    0.987558\n",
      "item_5     0.291853\n",
      "item_50    0.609406\n",
      "item_6     0.477401\n",
      "item_7     0.355743\n",
      "item_8     0.511355\n",
      "item_9     0.495058\n",
      "dtype: float64\n"
     ]
    }
   ],
   "source": [
    "# Example: Predict ratings for a user\n",
    "user_id = 'user_60'\n",
    "predicted_ratings = predict_ratings(user_id)\n",
    "print(f\"Predicted ratings for {user_id}:\\n\", predicted_ratings)"
   ]
  },
  {
   "cell_type": "code",
   "execution_count": 12,
   "metadata": {},
   "outputs": [],
   "source": [
    "# # Verify that user_1 is still present after aggregation\n",
    "# if 'user_1' not in ratings_data['user_id'].unique():\n",
    "#     raise ValueError(\"user_1 is not present in the dataset after aggregation\")"
   ]
  },
  {
   "cell_type": "code",
   "execution_count": null,
   "metadata": {},
   "outputs": [],
   "source": [
    "# from sklearn.metrics.pairwise import cosine_similarity\n",
    "\n",
    "# # Compute user similarity matrix\n",
    "# user_similarity = cosine_similarity(user_item_matrix)\n",
    "\n",
    "# # Make recommendations for a user\n",
    "# def recommend_items(user_id, user_item_matrix, user_similarity, top_n=5):\n",
    "#     user_idx = user_id - 1\n",
    "#     similar_users = user_similarity[user_idx]\n",
    "#     similar_users[user_idx] = 0  # Exclude the user itself\n",
    "    \n",
    "#     similar_users_idx = similar_users.argsort()[::-1][:top_n]\n",
    "#     recommended_items = set()\n",
    "    \n",
    "#     for idx in similar_users_idx:\n",
    "#         recommended_items.update(user_item_matrix[idx].nonzero()[0])\n",
    "    \n",
    "#     return list(recommended_items)[:top_n]\n",
    "\n",
    "# # Example recommendation for user 1\n",
    "# print(recommend_items(1, user_item_matrix, user_similarity))\n"
   ]
  },
  {
   "cell_type": "code",
   "execution_count": null,
   "metadata": {},
   "outputs": [],
   "source": [
    "# from flask import Flask, request, jsonify\n",
    "\n",
    "# app = Flask(__name__)\n",
    "\n",
    "# @app.route('/recommend', methods=['GET'])\n",
    "# def recommend():\n",
    "#     user_id = int(request.args.get('user_id'))\n",
    "#     recommendations = recommend_items(user_id, user_item_matrix, user_similarity)\n",
    "#     return jsonify(recommendations)\n",
    "\n",
    "# if __name__ == '__main__':\n",
    "#     app.run(debug=True)\n"
   ]
  },
  {
   "cell_type": "code",
   "execution_count": 16,
   "metadata": {},
   "outputs": [],
   "source": [
    "from flask import Flask, jsonify, request"
   ]
  },
  {
   "cell_type": "code",
   "execution_count": 17,
   "metadata": {},
   "outputs": [
    {
     "name": "stdout",
     "output_type": "stream",
     "text": [
      " * Serving Flask app '__main__'\n",
      " * Debug mode: on\n"
     ]
    },
    {
     "name": "stderr",
     "output_type": "stream",
     "text": [
      "WARNING: This is a development server. Do not use it in a production deployment. Use a production WSGI server instead.\n",
      " * Running on http://127.0.0.1:5000\n",
      "Press CTRL+C to quit\n",
      " * Restarting with stat\n"
     ]
    },
    {
     "ename": "SystemExit",
     "evalue": "1",
     "output_type": "error",
     "traceback": [
      "An exception has occurred, use %tb to see the full traceback.\n",
      "\u001b[1;31mSystemExit\u001b[0m\u001b[1;31m:\u001b[0m 1\n"
     ]
    },
    {
     "name": "stderr",
     "output_type": "stream",
     "text": [
      "d:\\Miniconda\\envs\\fashion-recommender\\Lib\\site-packages\\IPython\\core\\interactiveshell.py:3585: UserWarning: To exit: use 'exit', 'quit', or Ctrl-D.\n",
      "  warn(\"To exit: use 'exit', 'quit', or Ctrl-D.\", stacklevel=1)\n"
     ]
    }
   ],
   "source": [
    "app = Flask(__name__)\n",
    "\n",
    "@app.route('/')\n",
    "def home():\n",
    "    return 'Welcome to the Recommender System API!'\n",
    "\n",
    "@app.route('/predict', methods=['POST'])\n",
    "def predict():\n",
    "    user_id = request.json['user_id']\n",
    "    predicted_ratings = predict_ratings(user_id)\n",
    "    return jsonify(predicted_ratings.to_dict())\n",
    "\n",
    "if __name__ == '__main__':\n",
    "    app.run(debug=True)"
   ]
  },
  {
   "cell_type": "code",
   "execution_count": 18,
   "metadata": {},
   "outputs": [
    {
     "ename": "SystemExit",
     "evalue": "1",
     "output_type": "error",
     "traceback": [
      "\u001b[1;31m---------------------------------------------------------------------------\u001b[0m",
      "\u001b[1;31mSystemExit\u001b[0m                                Traceback (most recent call last)",
      "Cell \u001b[1;32mIn[17], line 14\u001b[0m\n\u001b[0;32m     11\u001b[0m     \u001b[38;5;28;01mreturn\u001b[39;00m jsonify(predicted_ratings\u001b[38;5;241m.\u001b[39mto_dict())\n\u001b[0;32m     13\u001b[0m \u001b[38;5;28;01mif\u001b[39;00m \u001b[38;5;18m__name__\u001b[39m \u001b[38;5;241m==\u001b[39m \u001b[38;5;124m'\u001b[39m\u001b[38;5;124m__main__\u001b[39m\u001b[38;5;124m'\u001b[39m:\n\u001b[1;32m---> 14\u001b[0m     \u001b[43mapp\u001b[49m\u001b[38;5;241;43m.\u001b[39;49m\u001b[43mrun\u001b[49m\u001b[43m(\u001b[49m\u001b[43mdebug\u001b[49m\u001b[38;5;241;43m=\u001b[39;49m\u001b[38;5;28;43;01mTrue\u001b[39;49;00m\u001b[43m)\u001b[49m\n",
      "File \u001b[1;32md:\\Miniconda\\envs\\fashion-recommender\\Lib\\site-packages\\flask\\app.py:625\u001b[0m, in \u001b[0;36mFlask.run\u001b[1;34m(self, host, port, debug, load_dotenv, **options)\u001b[0m\n\u001b[0;32m    622\u001b[0m \u001b[38;5;28;01mfrom\u001b[39;00m \u001b[38;5;21;01mwerkzeug\u001b[39;00m\u001b[38;5;21;01m.\u001b[39;00m\u001b[38;5;21;01mserving\u001b[39;00m \u001b[38;5;28;01mimport\u001b[39;00m run_simple\n\u001b[0;32m    624\u001b[0m \u001b[38;5;28;01mtry\u001b[39;00m:\n\u001b[1;32m--> 625\u001b[0m     \u001b[43mrun_simple\u001b[49m\u001b[43m(\u001b[49m\u001b[43mt\u001b[49m\u001b[38;5;241;43m.\u001b[39;49m\u001b[43mcast\u001b[49m\u001b[43m(\u001b[49m\u001b[38;5;28;43mstr\u001b[39;49m\u001b[43m,\u001b[49m\u001b[43m \u001b[49m\u001b[43mhost\u001b[49m\u001b[43m)\u001b[49m\u001b[43m,\u001b[49m\u001b[43m \u001b[49m\u001b[43mport\u001b[49m\u001b[43m,\u001b[49m\u001b[43m \u001b[49m\u001b[38;5;28;43mself\u001b[39;49m\u001b[43m,\u001b[49m\u001b[43m \u001b[49m\u001b[38;5;241;43m*\u001b[39;49m\u001b[38;5;241;43m*\u001b[39;49m\u001b[43moptions\u001b[49m\u001b[43m)\u001b[49m\n\u001b[0;32m    626\u001b[0m \u001b[38;5;28;01mfinally\u001b[39;00m:\n\u001b[0;32m    627\u001b[0m     \u001b[38;5;66;03m# reset the first request information if the development server\u001b[39;00m\n\u001b[0;32m    628\u001b[0m     \u001b[38;5;66;03m# reset normally.  This makes it possible to restart the server\u001b[39;00m\n\u001b[0;32m    629\u001b[0m     \u001b[38;5;66;03m# without reloader and that stuff from an interactive shell.\u001b[39;00m\n\u001b[0;32m    630\u001b[0m     \u001b[38;5;28mself\u001b[39m\u001b[38;5;241m.\u001b[39m_got_first_request \u001b[38;5;241m=\u001b[39m \u001b[38;5;28;01mFalse\u001b[39;00m\n",
      "File \u001b[1;32md:\\Miniconda\\envs\\fashion-recommender\\Lib\\site-packages\\werkzeug\\serving.py:1106\u001b[0m, in \u001b[0;36mrun_simple\u001b[1;34m(hostname, port, application, use_reloader, use_debugger, use_evalex, extra_files, exclude_patterns, reloader_interval, reloader_type, threaded, processes, request_handler, static_files, passthrough_errors, ssl_context)\u001b[0m\n\u001b[0;32m   1103\u001b[0m \u001b[38;5;28;01mfrom\u001b[39;00m \u001b[38;5;21;01m.\u001b[39;00m\u001b[38;5;21;01m_reloader\u001b[39;00m \u001b[38;5;28;01mimport\u001b[39;00m run_with_reloader\n\u001b[0;32m   1105\u001b[0m \u001b[38;5;28;01mtry\u001b[39;00m:\n\u001b[1;32m-> 1106\u001b[0m     \u001b[43mrun_with_reloader\u001b[49m\u001b[43m(\u001b[49m\n\u001b[0;32m   1107\u001b[0m \u001b[43m        \u001b[49m\u001b[43msrv\u001b[49m\u001b[38;5;241;43m.\u001b[39;49m\u001b[43mserve_forever\u001b[49m\u001b[43m,\u001b[49m\n\u001b[0;32m   1108\u001b[0m \u001b[43m        \u001b[49m\u001b[43mextra_files\u001b[49m\u001b[38;5;241;43m=\u001b[39;49m\u001b[43mextra_files\u001b[49m\u001b[43m,\u001b[49m\n\u001b[0;32m   1109\u001b[0m \u001b[43m        \u001b[49m\u001b[43mexclude_patterns\u001b[49m\u001b[38;5;241;43m=\u001b[39;49m\u001b[43mexclude_patterns\u001b[49m\u001b[43m,\u001b[49m\n\u001b[0;32m   1110\u001b[0m \u001b[43m        \u001b[49m\u001b[43minterval\u001b[49m\u001b[38;5;241;43m=\u001b[39;49m\u001b[43mreloader_interval\u001b[49m\u001b[43m,\u001b[49m\n\u001b[0;32m   1111\u001b[0m \u001b[43m        \u001b[49m\u001b[43mreloader_type\u001b[49m\u001b[38;5;241;43m=\u001b[39;49m\u001b[43mreloader_type\u001b[49m\u001b[43m,\u001b[49m\n\u001b[0;32m   1112\u001b[0m \u001b[43m    \u001b[49m\u001b[43m)\u001b[49m\n\u001b[0;32m   1113\u001b[0m \u001b[38;5;28;01mfinally\u001b[39;00m:\n\u001b[0;32m   1114\u001b[0m     srv\u001b[38;5;241m.\u001b[39mserver_close()\n",
      "File \u001b[1;32md:\\Miniconda\\envs\\fashion-recommender\\Lib\\site-packages\\werkzeug\\_reloader.py:458\u001b[0m, in \u001b[0;36mrun_with_reloader\u001b[1;34m(main_func, extra_files, exclude_patterns, interval, reloader_type)\u001b[0m\n\u001b[0;32m    456\u001b[0m             reloader\u001b[38;5;241m.\u001b[39mrun()\n\u001b[0;32m    457\u001b[0m     \u001b[38;5;28;01melse\u001b[39;00m:\n\u001b[1;32m--> 458\u001b[0m         \u001b[43msys\u001b[49m\u001b[38;5;241;43m.\u001b[39;49m\u001b[43mexit\u001b[49m\u001b[43m(\u001b[49m\u001b[43mreloader\u001b[49m\u001b[38;5;241;43m.\u001b[39;49m\u001b[43mrestart_with_reloader\u001b[49m\u001b[43m(\u001b[49m\u001b[43m)\u001b[49m\u001b[43m)\u001b[49m\n\u001b[0;32m    459\u001b[0m \u001b[38;5;28;01mexcept\u001b[39;00m \u001b[38;5;167;01mKeyboardInterrupt\u001b[39;00m:\n\u001b[0;32m    460\u001b[0m     \u001b[38;5;28;01mpass\u001b[39;00m\n",
      "\u001b[1;31mSystemExit\u001b[0m: 1"
     ]
    }
   ],
   "source": [
    "%tb"
   ]
  },
  {
   "cell_type": "code",
   "execution_count": null,
   "metadata": {},
   "outputs": [],
   "source": []
  }
 ],
 "metadata": {
  "kernelspec": {
   "display_name": "fashion-recommender",
   "language": "python",
   "name": "python3"
  },
  "language_info": {
   "codemirror_mode": {
    "name": "ipython",
    "version": 3
   },
   "file_extension": ".py",
   "mimetype": "text/x-python",
   "name": "python",
   "nbconvert_exporter": "python",
   "pygments_lexer": "ipython3",
   "version": "3.12.4"
  }
 },
 "nbformat": 4,
 "nbformat_minor": 2
}
