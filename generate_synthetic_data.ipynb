{
 "cells": [
  {
   "cell_type": "code",
   "execution_count": 1,
   "metadata": {},
   "outputs": [
    {
     "name": "stdout",
     "output_type": "stream",
     "text": [
      "Synthetic data generated and saved to CSV files.\n"
     ]
    }
   ],
   "source": [
    "# generate_synthetic_data.py\n",
    "\n",
    "import pandas as pd\n",
    "import numpy as np\n",
    "\n",
    "# Set random seed for reproducibility\n",
    "np.random.seed(42)\n",
    "\n",
    "# Generate synthetic user data\n",
    "num_users = 100\n",
    "user_ids = [f'user_{i}' for i in range(1, num_users + 1)]\n",
    "user_data = pd.DataFrame({\n",
    "    'user_id': user_ids,\n",
    "    'age': np.random.randint(18, 70, size=num_users),\n",
    "    'gender': np.random.choice(['M', 'F'], size=num_users),\n",
    "    'location': np.random.choice(['Location_1', 'Location_2', 'Location_3'], size=num_users)\n",
    "})\n",
    "\n",
    "# Generate synthetic item data\n",
    "num_items = 50\n",
    "item_ids = [f'item_{i}' for i in range(1, num_items + 1)]\n",
    "item_data = pd.DataFrame({\n",
    "    'item_id': item_ids,\n",
    "    'category': np.random.choice(['Category_1', 'Category_2', 'Category_3'], size=num_items),\n",
    "    'price': np.random.uniform(10, 100, size=num_items)\n",
    "})\n",
    "\n",
    "# Generate synthetic ratings data\n",
    "num_ratings = 1000\n",
    "ratings_data = pd.DataFrame({\n",
    "    'user_id': np.random.choice(user_ids, size=num_ratings),\n",
    "    'item_id': np.random.choice(item_ids, size=num_ratings),\n",
    "    'rating': np.random.randint(1, 6, size=num_ratings)\n",
    "})\n",
    "\n",
    "# Save to CSV\n",
    "user_data.to_csv('users.csv', index=False)\n",
    "item_data.to_csv('items.csv', index=False)\n",
    "ratings_data.to_csv('ratings.csv', index=False)\n",
    "\n",
    "print(\"Synthetic data generated and saved to CSV files.\")\n"
   ]
  },
  {
   "cell_type": "code",
   "execution_count": null,
   "metadata": {},
   "outputs": [],
   "source": []
  }
 ],
 "metadata": {
  "kernelspec": {
   "display_name": "fashion-recommender",
   "language": "python",
   "name": "python3"
  },
  "language_info": {
   "codemirror_mode": {
    "name": "ipython",
    "version": 3
   },
   "file_extension": ".py",
   "mimetype": "text/x-python",
   "name": "python",
   "nbconvert_exporter": "python",
   "pygments_lexer": "ipython3",
   "version": "3.12.4"
  }
 },
 "nbformat": 4,
 "nbformat_minor": 2
}
